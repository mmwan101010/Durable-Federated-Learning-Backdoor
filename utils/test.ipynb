{
 "cells": [
  {
   "cell_type": "code",
   "execution_count": null,
   "metadata": {},
   "outputs": [],
   "source": [
    "# smtplib 用于邮件的发信动作\n",
    "import smtplib\n",
    "# email 用于构建邮件内容\n",
    "from email.mime.text import MIMEText\n",
    "# 构建邮件头\n",
    "from email.header import Header\n",
    "import datetime"
   ]
  },
  {
   "cell_type": "code",
   "execution_count": null,
   "metadata": {},
   "outputs": [],
   "source": [
    "# 发信方的信息：发信邮箱，QQ 邮箱授权码\n",
    "from_addr = '1580524241@qq.com'\n",
    "password = 'xoyiazfnbpwjigbh'\n",
    "# 收信方邮箱\n",
    "to_addr = '389002792@qq.com'\n",
    "# 发信服务器\n",
    "smtp_server = 'smtp.qq.com'"
   ]
  },
  {
   "cell_type": "code",
   "execution_count": null,
   "metadata": {},
   "outputs": [],
   "source": [
    "# 邮箱正文内容，第一个参数为内容，第二个参数为格式(plain 为纯文本)，第三个参数为编码\n",
    "strTime = datetime.datetime.now().strftime('%Y-%m-%d %H:%M:%S')\n",
    "epoch = 1\n",
    "email11 = '实验在第 ' + str(epoch) + 'epoch 结束\\n' + '结束时间为：' + strTime\n",
    "msg = MIMEText(email11, 'plain', 'utf-8')\n",
    "# 邮件头信息\n",
    "msg['From'] = Header('张三')  # 发送者\n",
    "msg['To'] = Header('李四')  # 接收者\n",
    "subject = 'Python SMTP 邮件测试'\n",
    "msg['Subject'] = Header(subject, 'utf-8')  # 邮件主题"
   ]
  },
  {
   "cell_type": "code",
   "execution_count": null,
   "metadata": {},
   "outputs": [],
   "source": [
    "try:\n",
    "    smtpobj = smtplib.SMTP_SSL(smtp_server)\n",
    "    # 建立连接--qq邮箱服务和端口号（可百度查询）\n",
    "    smtpobj.connect(smtp_server, 465)    \n",
    "    # 登录--发送者账号和口令\n",
    "    smtpobj.login(from_addr, password)   \n",
    "    # 发送邮件\n",
    "    smtpobj.sendmail(from_addr, to_addr, msg.as_string()) \n",
    "    print(\"邮件发送成功\")\n",
    "except smtplib.SMTPException:\n",
    "    print(\"无法发送邮件\")\n",
    "finally:\n",
    "    # 关闭服务器\n",
    "    smtpobj.quit()"
   ]
  },
  {
   "cell_type": "code",
   "execution_count": null,
   "metadata": {},
   "outputs": [],
   "source": [
    "import os\n",
    "import numpy as np\n",
    "import pickle\n",
    "# import imageio\n",
    "import cv2 as cv \n",
    "import matplotlib.pyplot as plt\n",
    "import encode_imagecopy as ecode\n",
    "from PIL import Image as img\n",
    "import argparse\n",
    "\n",
    "# file = 'X:\\Directory\\code\\Durable-Federated-Learning-Backdoor\\FL_Backdoor_CV\\data\\cifar-10-batches-py\\data_batch_1'\n",
    "# 解压缩，返回解压后的字典\n",
    "def main():\n",
    "    file = 'D:\\code\\code_xwd\\Durable-Federated-Learning-Backdoor\\FL_Backdoor_CV\\data\\cifar-10-batches-py\\data_batch_01'\n",
    "\n",
    "    write_into_cifar10_poisondata(file)\n",
    "\n",
    "def write_into_cifar10_poisondata(file):\n",
    "    dict = poison_cifar10(file)\n",
    "    fo = open(file, 'wb+')\n",
    "    fo = fo.write(dict)\n",
    "    fo.close()\n",
    "\n",
    "def unpickle(file):\n",
    "    fo = open(file, 'rb')\n",
    "    dict = pickle.load(fo, encoding='latin1')\n",
    "    fo.close()\n",
    "    return dict\n",
    "\n",
    "def poison_cifar10(file):\n",
    "    label_dict = {\n",
    "        0:'plane',\n",
    "        1:'car',\n",
    "        2:'bird',\n",
    "        3:'cat',\n",
    "        4:'deer',\n",
    "        5:'dog',\n",
    "        6:'frog',\n",
    "        7:'horse',\n",
    "        8:'ship',\n",
    "        9:'truck'\n",
    "    }\n",
    "    \n",
    "    # 第几张图片\n",
    "    line_number = 0\n",
    "    # 要poi几张\n",
    "    pic_number = 1\n",
    "    # 显示测试集图片\n",
    "    dict = unpickle(file)\n",
    "    data = dict.get(\"data\")\n",
    "    label = dict.get(\"labels\")\n",
    "    for line_number in range(pic_number):\n",
    "        image_m = np.reshape(data[line_number], (3, 32, 32))\n",
    "        image_label = label[line_number]\n",
    "        r = image_m[0, :, :]\n",
    "        g = image_m[1, :, :]\n",
    "        b = image_m[2, :, :]\n",
    "        img32 = np.array(cv.merge([r, g, b]))\n",
    "\n",
    "        print(data.shape)\n",
    "\n",
    "        # 扩充\n",
    "        img224 = cv.resize(img32, (224, 224), 1)\n",
    "\n",
    "        encode_start = 1\n",
    "\n",
    "        if encode_start == 1:\n",
    "            im_hidden, im_residual = ecode.encode(img224, line_number)\n",
    "            \n",
    "        img32_compress = cv.resize(im_hidden, (32, 32), 1)\n",
    "\n",
    "        # python的数列范围是不取最后一个的\n",
    "        print(img32_compress.shape)\n",
    "\n",
    "        temp_r = np.reshape(img32_compress[:, :, 0], (1024, ))\n",
    "        temp_g = np.reshape(img32_compress[:, :, 1], (1024, ))\n",
    "        temp_b = np.reshape(img32_compress[:, :, 2], (1024, ))\n",
    "\n",
    "        dict.get(\"data\")[line_number,0:1024] = temp_r \n",
    "        dict.get(\"data\")[line_number,1024:2048] = temp_g\n",
    "        dict.get(\"data\")[line_number,2048:3072] = temp_b\n",
    "\n",
    "        backout_r = dict.get(\"data\")[line_number,0:1024].reshape(32, 32)\n",
    "        backout_g = dict.get(\"data\")[line_number,1024:2048].reshape(32, 32)\n",
    "        backout_b = dict.get(\"data\")[line_number,2048:3072].reshape(32, 32)\n",
    "        img32_backout = np.array(cv.merge([backout_r, backout_g, backout_b]))\n",
    "        \n",
    "        # plt.ion()\n",
    "        plt.figure()\n",
    "        plt.subplot(1, 3, 1)\n",
    "        plt.imshow(img32)   # cifar10 原图\n",
    "        plt.subplot(1, 3, 2)\n",
    "        plt.imshow(img32_backout)   # cifar10 回传后提出来看有没有进去\n",
    "        plt.title(label_dict[label[line_number]])\n",
    "        plt.subplot(1, 3, 3)\n",
    "        plt.imshow(img224)  # cifar10 扩充224图\n",
    "    plt.show()\n",
    "    return dict\n",
    "\n",
    "if __name__ == \"__main__\":\n",
    "    main()"
   ]
  },
  {
   "cell_type": "code",
   "execution_count": null,
   "metadata": {},
   "outputs": [],
   "source": [
    "# plt.ion()\n",
    "plt.figure()\n",
    "plt.subplot(2, 2, 1)\n",
    "plt.imshow(img32)   # cifar10 原图\n",
    "plt.subplot(2, 2, 2)\n",
    "plt.imshow(img224)  # cifar10 扩充224图\n",
    "plt.subplot(2, 2, 3)\n",
    "plt.imshow(img32_compress)  # cifar10 压缩至32后的图\n",
    "plt.title(label_dict[label[line_number]])\n",
    "plt.subplot(2, 2, 4)\n",
    "plt.imshow(img32_backout)   # cifar10 回传后提出来看有没有进去\n",
    "plt.show()"
   ]
  },
  {
   "cell_type": "code",
   "execution_count": 1,
   "metadata": {},
   "outputs": [
    {
     "data": {
<<<<<<< HEAD
      "image/png": "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",
=======
      "image/png": "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",
>>>>>>> main
      "text/plain": [
       "<Figure size 640x480 with 1 Axes>"
      ]
     },
     "metadata": {},
     "output_type": "display_data"
    }
   ],
   "source": [
    "import os\n",
    "import numpy as np\n",
    "import pickle\n",
    "# import imageio\n",
    "import cv2 as cv \n",
    "import matplotlib.pyplot as plt\n",
    "import encode_imagecopy as ecode\n",
    "from PIL import Image as img\n",
    "import argparse\n",
    "\n",
<<<<<<< HEAD
    "# file = 'D:\\code\\code_xwd\\Durable-Federated-Learning-Backdoor\\FL_Backdoor_CV\\data\\cifar-10-batches-py\\data_batch_01'\n",
    "file = 'X:\\Directory\\code\\Durable-Federated-Learning-Backdoor\\FL_Backdoor_CV\\data\\cifar-10-batches-py\\data_batch_1 copy'\n",
=======
    "file = 'D:\\code\\code_xwd\\Durable-Federated-Learning-Backdoor\\FL_Backdoor_CV\\data\\cifar-10-batches-py\\data_batch_01'\n",
>>>>>>> main
    "def unpickle(file):\n",
    "    fo = open(file, 'rb')\n",
    "    dict = pickle.load(fo, encoding='latin1')\n",
    "    fo.close()\n",
    "    return dict\n",
    "\n",
    "# 第几张图片\n",
    "line_number = 0\n",
    "# 显示测试集图片\n",
    "dict = unpickle(file)\n",
    "data = dict.get(\"data\")\n",
    "label = dict.get(\"labels\")\n",
    "image_m = np.reshape(data[line_number], (3, 32, 32))\n",
    "image_label = label[line_number]\n",
    "r = image_m[0, :, :]\n",
    "g = image_m[1, :, :]\n",
    "b = image_m[2, :, :]\n",
    "img32 = np.array(cv.merge([r, g, b]))\n",
    "\n",
    "plt.figure()\n",
    "plt.imshow(img32)\n",
    "plt.show()"
   ]
  }
 ],
 "metadata": {
  "kernelspec": {
   "display_name": "Python 3.9.7 ('neurotoxin')",
   "language": "python",
   "name": "python3"
  },
  "language_info": {
   "codemirror_mode": {
    "name": "ipython",
    "version": 3
   },
   "file_extension": ".py",
   "mimetype": "text/x-python",
   "name": "python",
   "nbconvert_exporter": "python",
   "pygments_lexer": "ipython3",
   "version": "3.9.7"
  },
  "orig_nbformat": 4,
  "vscode": {
   "interpreter": {
    "hash": "378785f2707e7431a0c2e8501b127f30537e5fa363a2986e3a7aec34d42a13b6"
   }
  }
 },
 "nbformat": 4,
 "nbformat_minor": 2
}
