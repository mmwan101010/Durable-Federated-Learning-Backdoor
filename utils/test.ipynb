{
 "cells": [
  {
   "cell_type": "code",
   "execution_count": 3,
   "metadata": {},
   "outputs": [],
   "source": [
    "# smtplib 用于邮件的发信动作\n",
    "import smtplib\n",
    "# email 用于构建邮件内容\n",
    "from email.mime.text import MIMEText\n",
    "# 构建邮件头\n",
    "from email.header import Header\n",
    "import datetime"
   ]
  },
  {
   "cell_type": "code",
   "execution_count": 4,
   "metadata": {},
   "outputs": [],
   "source": [
    "# 发信方的信息：发信邮箱，QQ 邮箱授权码\n",
    "from_addr = '1580524241@qq.com'\n",
    "password = 'xoyiazfnbpwjigbh'\n",
    "# 收信方邮箱\n",
    "to_addr = '389002792@qq.com'\n",
    "# 发信服务器\n",
    "smtp_server = 'smtp.qq.com'"
   ]
  },
  {
   "cell_type": "code",
   "execution_count": 5,
   "metadata": {},
   "outputs": [],
   "source": [
    "# 邮箱正文内容，第一个参数为内容，第二个参数为格式(plain 为纯文本)，第三个参数为编码\n",
    "strTime = datetime.datetime.now().strftime('%Y-%m-%d %H:%M:%S')\n",
    "epoch = 1\n",
    "email11 = '实验在第 ' + str(epoch) + 'epoch 结束\\n' + '结束时间为：' + strTime\n",
    "msg = MIMEText(email11, 'plain', 'utf-8')\n",
    "# 邮件头信息\n",
    "msg['From'] = Header('张三')  # 发送者\n",
    "msg['To'] = Header('李四')  # 接收者\n",
    "subject = 'Python SMTP 邮件测试'\n",
    "msg['Subject'] = Header(subject, 'utf-8')  # 邮件主题"
   ]
  },
  {
   "cell_type": "code",
   "execution_count": 6,
   "metadata": {},
   "outputs": [
    {
     "name": "stdout",
     "output_type": "stream",
     "text": [
      "邮件发送成功\n"
     ]
    }
   ],
   "source": [
    "try:\n",
    "    smtpobj = smtplib.SMTP_SSL(smtp_server)\n",
    "    # 建立连接--qq邮箱服务和端口号（可百度查询）\n",
    "    smtpobj.connect(smtp_server, 465)    \n",
    "    # 登录--发送者账号和口令\n",
    "    smtpobj.login(from_addr, password)   \n",
    "    # 发送邮件\n",
    "    smtpobj.sendmail(from_addr, to_addr, msg.as_string()) \n",
    "    print(\"邮件发送成功\")\n",
    "except smtplib.SMTPException:\n",
    "    print(\"无法发送邮件\")\n",
    "finally:\n",
    "    # 关闭服务器\n",
    "    smtpobj.quit()"
   ]
  },
  {
   "cell_type": "code",
   "execution_count": 7,
   "metadata": {},
   "outputs": [
    {
     "ename": "FileNotFoundError",
     "evalue": "[Errno 2] No such file or directory: 'D:\\\\code\\\\code_xwd\\\\Durable-Federated-Learning-Backdoor\\\\FL_Backdoor_CV\\\\data\\\\cifar-10-batches-py\\\\data_batch_01'",
     "output_type": "error",
     "traceback": [
      "\u001b[1;31m---------------------------------------------------------------------------\u001b[0m",
      "\u001b[1;31mFileNotFoundError\u001b[0m                         Traceback (most recent call last)",
      "Cell \u001b[1;32mIn [7], line 101\u001b[0m\n\u001b[0;32m     98\u001b[0m     \u001b[38;5;28;01mreturn\u001b[39;00m \u001b[38;5;28mdict\u001b[39m\n\u001b[0;32m    100\u001b[0m \u001b[38;5;28;01mif\u001b[39;00m \u001b[38;5;18m__name__\u001b[39m \u001b[38;5;241m==\u001b[39m \u001b[38;5;124m\"\u001b[39m\u001b[38;5;124m__main__\u001b[39m\u001b[38;5;124m\"\u001b[39m:\n\u001b[1;32m--> 101\u001b[0m     \u001b[43mmain\u001b[49m\u001b[43m(\u001b[49m\u001b[43m)\u001b[49m\n",
      "Cell \u001b[1;32mIn [7], line 16\u001b[0m, in \u001b[0;36mmain\u001b[1;34m()\u001b[0m\n\u001b[0;32m     13\u001b[0m \u001b[38;5;28;01mdef\u001b[39;00m \u001b[38;5;21mmain\u001b[39m():\n\u001b[0;32m     14\u001b[0m     file \u001b[38;5;241m=\u001b[39m \u001b[38;5;124m'\u001b[39m\u001b[38;5;124mD:\u001b[39m\u001b[38;5;124m\\\u001b[39m\u001b[38;5;124mcode\u001b[39m\u001b[38;5;124m\\\u001b[39m\u001b[38;5;124mcode_xwd\u001b[39m\u001b[38;5;124m\\\u001b[39m\u001b[38;5;124mDurable-Federated-Learning-Backdoor\u001b[39m\u001b[38;5;124m\\\u001b[39m\u001b[38;5;124mFL_Backdoor_CV\u001b[39m\u001b[38;5;124m\\\u001b[39m\u001b[38;5;124mdata\u001b[39m\u001b[38;5;124m\\\u001b[39m\u001b[38;5;124mcifar-10-batches-py\u001b[39m\u001b[38;5;124m\\\u001b[39m\u001b[38;5;124mdata_batch_01\u001b[39m\u001b[38;5;124m'\u001b[39m\n\u001b[1;32m---> 16\u001b[0m     \u001b[43mwrite_into_cifar10_poisondata\u001b[49m\u001b[43m(\u001b[49m\u001b[43mfile\u001b[49m\u001b[43m)\u001b[49m\n",
      "Cell \u001b[1;32mIn [7], line 19\u001b[0m, in \u001b[0;36mwrite_into_cifar10_poisondata\u001b[1;34m(file)\u001b[0m\n\u001b[0;32m     18\u001b[0m \u001b[38;5;28;01mdef\u001b[39;00m \u001b[38;5;21mwrite_into_cifar10_poisondata\u001b[39m(file):\n\u001b[1;32m---> 19\u001b[0m     \u001b[38;5;28mdict\u001b[39m \u001b[38;5;241m=\u001b[39m \u001b[43mpoison_cifar10\u001b[49m\u001b[43m(\u001b[49m\u001b[43mfile\u001b[49m\u001b[43m)\u001b[49m\n\u001b[0;32m     20\u001b[0m     fo \u001b[38;5;241m=\u001b[39m \u001b[38;5;28mopen\u001b[39m(file, \u001b[38;5;124m'\u001b[39m\u001b[38;5;124mwb+\u001b[39m\u001b[38;5;124m'\u001b[39m)\n\u001b[0;32m     21\u001b[0m     fo \u001b[38;5;241m=\u001b[39m fo\u001b[38;5;241m.\u001b[39mwrite(\u001b[38;5;28mdict\u001b[39m)\n",
      "Cell \u001b[1;32mIn [7], line 49\u001b[0m, in \u001b[0;36mpoison_cifar10\u001b[1;34m(file)\u001b[0m\n\u001b[0;32m     47\u001b[0m pic_number \u001b[38;5;241m=\u001b[39m \u001b[38;5;241m1\u001b[39m\n\u001b[0;32m     48\u001b[0m \u001b[38;5;66;03m# 显示测试集图片\u001b[39;00m\n\u001b[1;32m---> 49\u001b[0m \u001b[38;5;28mdict\u001b[39m \u001b[38;5;241m=\u001b[39m \u001b[43munpickle\u001b[49m\u001b[43m(\u001b[49m\u001b[43mfile\u001b[49m\u001b[43m)\u001b[49m\n\u001b[0;32m     50\u001b[0m data \u001b[38;5;241m=\u001b[39m \u001b[38;5;28mdict\u001b[39m\u001b[38;5;241m.\u001b[39mget(\u001b[38;5;124m\"\u001b[39m\u001b[38;5;124mdata\u001b[39m\u001b[38;5;124m\"\u001b[39m)\n\u001b[0;32m     51\u001b[0m label \u001b[38;5;241m=\u001b[39m \u001b[38;5;28mdict\u001b[39m\u001b[38;5;241m.\u001b[39mget(\u001b[38;5;124m\"\u001b[39m\u001b[38;5;124mlabels\u001b[39m\u001b[38;5;124m\"\u001b[39m)\n",
      "Cell \u001b[1;32mIn [7], line 25\u001b[0m, in \u001b[0;36munpickle\u001b[1;34m(file)\u001b[0m\n\u001b[0;32m     24\u001b[0m \u001b[38;5;28;01mdef\u001b[39;00m \u001b[38;5;21munpickle\u001b[39m(file):\n\u001b[1;32m---> 25\u001b[0m     fo \u001b[38;5;241m=\u001b[39m \u001b[38;5;28;43mopen\u001b[39;49m\u001b[43m(\u001b[49m\u001b[43mfile\u001b[49m\u001b[43m,\u001b[49m\u001b[43m \u001b[49m\u001b[38;5;124;43m'\u001b[39;49m\u001b[38;5;124;43mrb\u001b[39;49m\u001b[38;5;124;43m'\u001b[39;49m\u001b[43m)\u001b[49m\n\u001b[0;32m     26\u001b[0m     \u001b[38;5;28mdict\u001b[39m \u001b[38;5;241m=\u001b[39m pickle\u001b[38;5;241m.\u001b[39mload(fo, encoding\u001b[38;5;241m=\u001b[39m\u001b[38;5;124m'\u001b[39m\u001b[38;5;124mlatin1\u001b[39m\u001b[38;5;124m'\u001b[39m)\n\u001b[0;32m     27\u001b[0m     fo\u001b[38;5;241m.\u001b[39mclose()\n",
      "\u001b[1;31mFileNotFoundError\u001b[0m: [Errno 2] No such file or directory: 'D:\\\\code\\\\code_xwd\\\\Durable-Federated-Learning-Backdoor\\\\FL_Backdoor_CV\\\\data\\\\cifar-10-batches-py\\\\data_batch_01'"
     ]
    }
   ],
   "source": [
    "import os\n",
    "import numpy as np\n",
    "import pickle\n",
    "# import imageio\n",
    "import cv2 as cv \n",
    "import matplotlib.pyplot as plt\n",
    "import encode_imagecopy as ecode\n",
    "from PIL import Image as img\n",
    "import argparse\n",
    "\n",
    "# file = 'X:\\Directory\\code\\Durable-Federated-Learning-Backdoor\\FL_Backdoor_CV\\data\\cifar-10-batches-py\\data_batch_1'\n",
    "# 解压缩，返回解压后的字典\n",
    "def main():\n",
    "    file = 'D:\\code\\code_xwd\\Durable-Federated-Learning-Backdoor\\FL_Backdoor_CV\\data\\cifar-10-batches-py\\data_batch_01'\n",
    "\n",
    "    write_into_cifar10_poisondata(file)\n",
    "\n",
    "def write_into_cifar10_poisondata(file):\n",
    "    dict = poison_cifar10(file)\n",
    "    fo = open(file, 'wb+')\n",
    "    fo = fo.write(dict)\n",
    "    fo.close()\n",
    "\n",
    "def unpickle(file):\n",
    "    fo = open(file, 'rb')\n",
    "    dict = pickle.load(fo, encoding='latin1')\n",
    "    fo.close()\n",
    "    return dict\n",
    "\n",
    "def poison_cifar10(file):\n",
    "    label_dict = {\n",
    "        0:'plane',\n",
    "        1:'car',\n",
    "        2:'bird',\n",
    "        3:'cat',\n",
    "        4:'deer',\n",
    "        5:'dog',\n",
    "        6:'frog',\n",
    "        7:'horse',\n",
    "        8:'ship',\n",
    "        9:'truck'\n",
    "    }\n",
    "    \n",
    "    # 第几张图片\n",
    "    line_number = 0\n",
    "    # 要poi几张\n",
    "    pic_number = 1\n",
    "    # 显示测试集图片\n",
    "    dict = unpickle(file)\n",
    "    data = dict.get(\"data\")\n",
    "    label = dict.get(\"labels\")\n",
    "    for line_number in range(pic_number):\n",
    "        image_m = np.reshape(data[line_number], (3, 32, 32))\n",
    "        image_label = label[line_number]\n",
    "        r = image_m[0, :, :]\n",
    "        g = image_m[1, :, :]\n",
    "        b = image_m[2, :, :]\n",
    "        img32 = np.array(cv.merge([r, g, b]))\n",
    "\n",
    "        print(data.shape)\n",
    "\n",
    "        # 扩充\n",
    "        img224 = cv.resize(img32, (224, 224), 1)\n",
    "\n",
    "        encode_start = 1\n",
    "\n",
    "        if encode_start == 1:\n",
    "            im_hidden, im_residual = ecode.encode(img224, line_number)\n",
    "            \n",
    "        img32_compress = cv.resize(im_hidden, (32, 32), 1)\n",
    "\n",
    "        # python的数列范围是不取最后一个的\n",
    "        print(img32_compress.shape)\n",
    "\n",
    "        temp_r = np.reshape(img32_compress[:, :, 0], (1024, ))\n",
    "        temp_g = np.reshape(img32_compress[:, :, 1], (1024, ))\n",
    "        temp_b = np.reshape(img32_compress[:, :, 2], (1024, ))\n",
    "\n",
    "        dict.get(\"data\")[line_number,0:1024] = temp_r \n",
    "        dict.get(\"data\")[line_number,1024:2048] = temp_g\n",
    "        dict.get(\"data\")[line_number,2048:3072] = temp_b\n",
    "\n",
    "        backout_r = dict.get(\"data\")[line_number,0:1024].reshape(32, 32)\n",
    "        backout_g = dict.get(\"data\")[line_number,1024:2048].reshape(32, 32)\n",
    "        backout_b = dict.get(\"data\")[line_number,2048:3072].reshape(32, 32)\n",
    "        img32_backout = np.array(cv.merge([backout_r, backout_g, backout_b]))\n",
    "        \n",
    "        # plt.ion()\n",
    "        plt.figure()\n",
    "        plt.subplot(1, 3, 1)\n",
    "        plt.imshow(img32)   # cifar10 原图\n",
    "        plt.subplot(1, 3, 2)\n",
    "        plt.imshow(img32_backout)   # cifar10 回传后提出来看有没有进去\n",
    "        plt.title(label_dict[label[line_number]])\n",
    "        plt.subplot(1, 3, 3)\n",
    "        plt.imshow(img224)  # cifar10 扩充224图\n",
    "    plt.show()\n",
    "    return dict\n",
    "\n",
    "if __name__ == \"__main__\":\n",
    "    main()"
   ]
  },
  {
   "cell_type": "code",
   "execution_count": 8,
   "metadata": {},
   "outputs": [
    {
     "name": "stdout",
     "output_type": "stream",
     "text": [
      "两张图片不一样\n"
     ]
    },
    {
     "data": {
      "image/png": "[encoded data removed]",
      "text/plain": [
       "<Figure size 640x480 with 1 Axes>"
      ]
     },
     "metadata": {},
     "output_type": "display_data"
    },
    {
     "data": {
      "image/png": "[encoded data removed]",
      "text/plain": [
       "<Figure size 640x480 with 1 Axes>"
      ]
     },
     "metadata": {},
     "output_type": "display_data"
    }
   ],
   "source": [
    "import os\n",
    "import numpy as np\n",
    "import pickle\n",
    "# import imageio\n",
    "import cv2 as cv \n",
    "import matplotlib.pyplot as plt\n",
    "import encode_imagecopy as ecode\n",
    "from PIL import Image\n",
    "from PIL import ImageChops\n",
    "import argparse\n",
    "\n",
    "file = '..\\FL_Backdoor_CV\\data\\cifar-10-batches-py\\data_batch_1'\n",
    "file_poison = '..\\FL_Backdoor_CV\\data\\cifar-10-batches-py\\data_batch_1_poison'\n",
    "\n",
    "poi_index = open('index.txt', 'a+')\n",
    "\n",
    "def unpickle(file):\n",
    "    fo = open(file, 'rb')\n",
    "    dict = pickle.load(fo, encoding='latin1')\n",
    "    fo.close()\n",
    "    return dict\n",
    "\n",
    "def read_pic(dict, line_number):\n",
    "    data = dict.get(\"data\")\n",
    "    label = dict.get(\"labels\")\n",
    "    image_m = np.reshape(data[line_number], (3, 32, 32))\n",
    "    image_label = label[line_number]\n",
    "    r = image_m[0, :, :]\n",
    "    g = image_m[1, :, :]\n",
    "    b = image_m[2, :, :]\n",
    "    img32 = np.array(cv.merge([r, g, b]))\n",
    "    return img32, image_label\n",
    "\n",
    "label_dict = {\n",
    "    0:'plane',\n",
    "    1:'car',\n",
    "    2:'bird',\n",
    "    3:'cat',\n",
    "    4:'deer',\n",
    "    5:'dog',\n",
    "    6:'frog',\n",
    "    7:'horse',\n",
    "    8:'ship',\n",
    "    9:'truck'\n",
    "}\n",
    "# 第几张图片\n",
    "line_number = 14\n",
    "# 显示测试集图片\n",
    "dict = unpickle(file)\n",
    "dict_poison = unpickle(file_poison)\n",
    "img32, image_label = read_pic(dict, line_number)\n",
    "img32_poison, image_label_poison = read_pic(dict_poison, line_number)\n",
    "\n",
    "poi_index.write(str(line_number) + '  ' + label_dict[image_label_poison] + '\\n')\n",
    "\n",
    "plt.figure(frameon=False)\n",
    "plt.title(label_dict[image_label])\n",
    "plt.imshow(img32)\n",
    "plt.savefig('img32org.png')\n",
    "plt.figure(frameon=False)\n",
    "plt.title(label_dict[image_label_poison])\n",
    "plt.imshow(img32_poison)\n",
    "plt.savefig('img32poi.png')\n",
    "\n",
    "image1 = cv.imread(\"img32org.png\")\n",
    "image2 = cv.imread(\"img32poi.png\")\n",
    "difference = cv.subtract(image1, image2)\n",
    "result = not np.any(difference) #if difference is all zeros it will return False\n",
    "\n",
    "if result is True:\n",
    "    print(\"两张图片一样\")\n",
    "else:\n",
    "    cv.imwrite(\"result.jpg\", difference)\n",
    "    print (\"两张图片不一样\")\n",
    "\n",
    "\n",
    "plt.show()"
   ]
  }
 ],
 "metadata": {
  "kernelspec": {
   "display_name": "Python 3.9.7 ('xwdneurotoxin')",
   "language": "python",
   "name": "python3"
  },
  "language_info": {
   "codemirror_mode": {
    "name": "ipython",
    "version": 3
   },
   "file_extension": ".py",
   "mimetype": "text/x-python",
   "name": "python",
   "nbconvert_exporter": "python",
   "pygments_lexer": "ipython3",
   "version": "3.9.7"
  },
  "orig_nbformat": 4,
  "vscode": {
   "interpreter": {
    "hash": "bfb794e02b2ed94ec65849335775c94d5008fa960a3e751499eb361e153205e5"
   }
  }
 },
 "nbformat": 4,
 "nbformat_minor": 2
}
