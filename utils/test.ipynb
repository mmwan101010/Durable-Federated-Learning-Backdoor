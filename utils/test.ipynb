{
 "cells": [
  {
   "cell_type": "code",
   "execution_count": 4,
   "metadata": {},
   "outputs": [],
   "source": [
    "# smtplib 用于邮件的发信动作\n",
    "import smtplib\n",
    "# email 用于构建邮件内容\n",
    "from email.mime.text import MIMEText\n",
    "# 构建邮件头\n",
    "from email.header import Header\n",
    "import datetime"
   ]
  },
  {
   "cell_type": "code",
   "execution_count": 5,
   "metadata": {},
   "outputs": [],
   "source": [
    "# 发信方的信息：发信邮箱，QQ 邮箱授权码\n",
    "from_addr = '1580524241@qq.com'\n",
    "password = 'xoyiazfnbpwjigbh'\n",
    "# 收信方邮箱\n",
    "to_addr = '389002792@qq.com'\n",
    "# 发信服务器\n",
    "smtp_server = 'smtp.qq.com'"
   ]
  },
  {
   "cell_type": "code",
   "execution_count": 22,
   "metadata": {},
   "outputs": [],
   "source": [
    "# 邮箱正文内容，第一个参数为内容，第二个参数为格式(plain 为纯文本)，第三个参数为编码\n",
    "strTime = datetime.datetime.now().strftime('%Y-%m-%d %H:%M:%S')\n",
    "epoch = 1\n",
    "email11 = '实验在第 ' + str(epoch) + 'epoch 结束\\n' + '结束时间为：' + strTime\n",
    "msg = MIMEText(email11, 'plain', 'utf-8')\n",
    "# 邮件头信息\n",
    "msg['From'] = Header('张三')  # 发送者\n",
    "msg['To'] = Header('李四')  # 接收者\n",
    "subject = 'Python SMTP 邮件测试'\n",
    "msg['Subject'] = Header(subject, 'utf-8')  # 邮件主题"
   ]
  },
  {
   "cell_type": "code",
   "execution_count": 23,
   "metadata": {},
   "outputs": [
    {
     "name": "stdout",
     "output_type": "stream",
     "text": [
      "邮件发送成功\n"
     ]
    }
   ],
   "source": [
    "try:\n",
    "    smtpobj = smtplib.SMTP_SSL(smtp_server)\n",
    "    # 建立连接--qq邮箱服务和端口号（可百度查询）\n",
    "    smtpobj.connect(smtp_server, 465)    \n",
    "    # 登录--发送者账号和口令\n",
    "    smtpobj.login(from_addr, password)   \n",
    "    # 发送邮件\n",
    "    smtpobj.sendmail(from_addr, to_addr, msg.as_string()) \n",
    "    print(\"邮件发送成功\")\n",
    "except smtplib.SMTPException:\n",
    "    print(\"无法发送邮件\")\n",
    "finally:\n",
    "    # 关闭服务器\n",
    "    smtpobj.quit()"
   ]
  }
 ],
 "metadata": {
  "kernelspec": {
   "display_name": "Python 3.9.7 ('xwdneurotoxin')",
   "language": "python",
   "name": "python3"
  },
  "language_info": {
   "codemirror_mode": {
    "name": "ipython",
    "version": 3
   },
   "file_extension": ".py",
   "mimetype": "text/x-python",
   "name": "python",
   "nbconvert_exporter": "python",
   "pygments_lexer": "ipython3",
   "version": "3.9.7"
  },
  "orig_nbformat": 4,
  "vscode": {
   "interpreter": {
    "hash": "bfb794e02b2ed94ec65849335775c94d5008fa960a3e751499eb361e153205e5"
   }
  }
 },
 "nbformat": 4,
 "nbformat_minor": 2
}
