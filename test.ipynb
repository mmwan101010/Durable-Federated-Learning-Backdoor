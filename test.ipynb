{
 "cells": [
  {
   "cell_type": "code",
   "execution_count": 1,
   "metadata": {},
   "outputs": [
    {
     "name": "stdout",
     "output_type": "stream",
     "text": [
      "【neurotoxin】您的实验已完成，epochs：1，runName：TEST1\n",
      "2022-10-24 15:51:01\n",
      "短信发送成功\n"
     ]
    }
   ],
   "source": [
    "import utils.message as message\n",
    "\n",
    "message.finish(1, \"TEST1\")\n"
   ]
  },
  {
   "cell_type": "code",
   "execution_count": null,
   "metadata": {},
   "outputs": [],
   "source": [
    "import os"
   ]
  },
  {
   "cell_type": "code",
   "execution_count": 1,
   "metadata": {},
   "outputs": [],
   "source": [
    "def save_acc_file(file_name=None, acc_list=None, new_folder_name=None):\n",
    "    if new_folder_name is None:\n",
    "        path = \".\"\n",
    "    else:\n",
    "        path = f'./{new_folder_name}'\n",
    "        if not os.path.exists(path):\n",
    "            os.mkdir(path)"
   ]
  },
  {
   "cell_type": "code",
   "execution_count": 2,
   "metadata": {},
   "outputs": [],
   "source": [
    "backdoor_acc = [1,2,3]\n",
    "save_acc_file(file_name='1', acc_list=backdoor_acc, new_folder_name=f\"./FL_Backdoor_CV/cifar10_central_model/saved_backdoor_acc_edge_case0_datasetcifar10101010101_save_model_EE100\")\n"
   ]
  }
 ],
 "metadata": {
  "kernelspec": {
   "display_name": "Python 3.9.7 ('xwdneurotoxin')",
   "language": "python",
   "name": "python3"
  },
  "language_info": {
   "codemirror_mode": {
    "name": "ipython",
    "version": 3
   },
   "file_extension": ".py",
   "mimetype": "text/x-python",
   "name": "python",
   "nbconvert_exporter": "python",
   "pygments_lexer": "ipython3",
   "version": "3.9.7"
  },
  "orig_nbformat": 4,
  "vscode": {
   "interpreter": {
    "hash": "bfb794e02b2ed94ec65849335775c94d5008fa960a3e751499eb361e153205e5"
   }
  }
 },
 "nbformat": 4,
 "nbformat_minor": 2
}
